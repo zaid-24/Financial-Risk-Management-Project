{
 "cells": [
  {
   "cell_type": "code",
   "execution_count": 15,
   "metadata": {},
   "outputs": [],
   "source": [
    "import numpy as np\n",
    "import pandas as pd\n",
    "import yfinance as yf   "
   ]
  },
  {
   "cell_type": "markdown",
   "metadata": {},
   "source": [
    "## BSE Tickers:\n",
    "- **JM Financial**: 523405.BO\n",
    "- **Asian Paints**: 500820.BO\n",
    "- **Dabur**: 500096.BO\n",
    "- **ICICI Bank**: 532174.BO\n",
    "- **Tata Motors**: 500570.BO"
   ]
  },
  {
   "cell_type": "markdown",
   "metadata": {},
   "source": [
    "### Define tickers for the stocks and the market index"
   ]
  },
  {
   "cell_type": "code",
   "execution_count": 16,
   "metadata": {},
   "outputs": [],
   "source": [
    "stock_tickers = ['JMFINANCIL.NS', 'ASIANPAINT.NS', 'DABUR.NS', 'ICICIBANK.NS', 'TATAMOTORS.NS']\n",
    "market_ticker = '^BSESN'  # BSE Sensex"
   ]
  },
  {
   "cell_type": "markdown",
   "metadata": {},
   "source": [
    "### Function to import stock data"
   ]
  },
  {
   "cell_type": "code",
   "execution_count": 17,
   "metadata": {},
   "outputs": [],
   "source": [
    "def import_stock_data(tickers, start='2019-01-01', end='2024-01-01'):\n",
    "    data = yf.download(tickers, start=start, end=end)['Adj Close']\n",
    "    return data"
   ]
  },
  {
   "cell_type": "markdown",
   "metadata": {},
   "source": [
    "### Function to compute beta"
   ]
  },
  {
   "cell_type": "code",
   "execution_count": 18,
   "metadata": {},
   "outputs": [],
   "source": [
    "def compute_beta(data, stock, market):\n",
    "    log_returns = np.log(data / data.shift(1))\n",
    "    cov = log_returns.cov() * 1260  # Annualize by multiplying by 1260 (5 years of trading days)\n",
    "    cov_w_market = cov.loc[stock, market]\n",
    "    market_var = log_returns[market].var() * 1260  # Annualize market variance\n",
    "    return cov_w_market / market_var"
   ]
  },
  {
   "cell_type": "markdown",
   "metadata": {},
   "source": [
    "### Function to compute CAPM return"
   ]
  },
  {
   "cell_type": "code",
   "execution_count": 19,
   "metadata": {},
   "outputs": [],
   "source": [
    "def compute_annualized_return(data, stock):\n",
    "    daily_returns = data[stock].pct_change().dropna()\n",
    "    mean_daily_return = daily_returns.mean()\n",
    "    annualized_return = (1 + mean_daily_return) ** 1260 - 1  # Annualize daily return for 5 years\n",
    "    return annualized_return\n",
    "\n",
    "def compute_capm(data, stock, market, riskfree=0.0625):\n",
    "    beta = compute_beta(data, stock, market)\n",
    "    annualized_return = compute_annualized_return(data, market)\n",
    "    return riskfree + beta * (annualized_return - riskfree)"
   ]
  },
  {
   "cell_type": "markdown",
   "metadata": {},
   "source": [
    "### Function to compute Sharpe Ratio"
   ]
  },
  {
   "cell_type": "code",
   "execution_count": 20,
   "metadata": {},
   "outputs": [],
   "source": [
    "def compute_sharpe(data, stock, market, riskfree=0.0625):\n",
    "    log_returns = np.log(data / data.shift(1))\n",
    "    ret = compute_capm(data, stock, market, riskfree)\n",
    "    return (ret - riskfree) / (log_returns[stock].std() * np.sqrt(1260))  # Annualize daily standard deviation for 5 years\n"
   ]
  },
  {
   "cell_type": "markdown",
   "metadata": {},
   "source": [
    "### Function to compute Sortino Ratio"
   ]
  },
  {
   "cell_type": "code",
   "execution_count": 21,
   "metadata": {},
   "outputs": [],
   "source": [
    "def compute_sortino(data, stock, riskfree=0.0625):\n",
    "    log_returns = np.log(data / data.shift(1))\n",
    "    downside_returns = log_returns[log_returns < 0]\n",
    "    expected_return = log_returns[stock].mean() * 1260  # Annualize daily return for 5 years\n",
    "    downside_std = downside_returns[stock].std() * np.sqrt(1260)  # Annualize downside standard deviation for 5 years\n",
    "    return (expected_return - riskfree) / downside_std"
   ]
  },
  {
   "cell_type": "markdown",
   "metadata": {},
   "source": [
    "### Function to compute VaR"
   ]
  },
  {
   "cell_type": "code",
   "execution_count": 22,
   "metadata": {},
   "outputs": [],
   "source": [
    "z_score_95 = 1.96  # Z-score for 95% confidence level\n",
    "\n",
    "def compute_var(data, stock, z_score=z_score_95):\n",
    "    log_returns = np.log(data / data.shift(1))\n",
    "    sigma = log_returns[stock].std()  # Standard deviation of daily returns\n",
    "    var = z_score * sigma * np.sqrt(1)  # VaR for 1 day\n",
    "    annualized_var = var * np.sqrt(1260)  # Annualize the daily VaR\n",
    "    return annualized_var"
   ]
  },
  {
   "cell_type": "markdown",
   "metadata": {},
   "source": [
    "### Function to compute CAPM metrics for a stock"
   ]
  },
  {
   "cell_type": "code",
   "execution_count": 23,
   "metadata": {},
   "outputs": [],
   "source": [
    "def stock_CAPM(stock_ticker, market_ticker, start_date='2019-01-01', riskfree=0.025):\n",
    "    data = import_stock_data([stock_ticker, market_ticker], start=start_date)\n",
    "    beta = compute_beta(data, stock_ticker, market_ticker)\n",
    "    capm = compute_capm(data, stock_ticker, market_ticker, riskfree)\n",
    "    sharpe = compute_sharpe(data, stock_ticker, market_ticker, riskfree)\n",
    "    sortino = compute_sortino(data, stock_ticker, riskfree)\n",
    "    var = compute_var(data, stock_ticker)\n",
    "    capmdata = pd.DataFrame([beta, capm, sharpe, sortino, var], columns=[stock_ticker], index=['Beta', 'Return', 'Sharpe', 'Sortino', 'VaR'])\n",
    "    return capmdata.T"
   ]
  },
  {
   "cell_type": "code",
   "execution_count": 24,
   "metadata": {},
   "outputs": [
    {
     "name": "stderr",
     "output_type": "stream",
     "text": [
      "[*********************100%%**********************]  1 of 1 completed"
     ]
    },
    {
     "name": "stderr",
     "output_type": "stream",
     "text": [
      "\n"
     ]
    }
   ],
   "source": [
    "data=import_stock_data('JMFINANCIL.NS', start='2019-01-01', end='2024-01-01')"
   ]
  },
  {
   "cell_type": "code",
   "execution_count": 25,
   "metadata": {},
   "outputs": [],
   "source": [
    "data.columns = ['JMFINANCIL.NS']"
   ]
  },
  {
   "cell_type": "code",
   "execution_count": 26,
   "metadata": {},
   "outputs": [
    {
     "data": {
      "text/plain": [
       "Date\n",
       "2019-01-01    83.715897\n",
       "2019-01-02    80.964447\n",
       "2019-01-03    80.874252\n",
       "2019-01-04    81.280190\n",
       "2019-01-07    81.370399\n",
       "                ...    \n",
       "2023-12-22    94.960854\n",
       "2023-12-26    94.327461\n",
       "2023-12-27    97.396996\n",
       "2023-12-28    95.350639\n",
       "2023-12-29    95.789146\n",
       "Name: Adj Close, Length: 1235, dtype: float64"
      ]
     },
     "execution_count": 26,
     "metadata": {},
     "output_type": "execute_result"
    }
   ],
   "source": [
    "data"
   ]
  },
  {
   "cell_type": "code",
   "execution_count": 27,
   "metadata": {},
   "outputs": [
    {
     "name": "stderr",
     "output_type": "stream",
     "text": [
      "[*********************100%%**********************]  2 of 2 completed\n",
      "C:\\Users\\asus\\AppData\\Local\\Temp\\ipykernel_7672\\2007383067.py:2: FutureWarning: The default fill_method='pad' in Series.pct_change is deprecated and will be removed in a future version. Either fill in any non-leading NA values prior to calling pct_change or specify 'fill_method=None' to not fill NA values.\n",
      "  daily_returns = data[stock].pct_change().dropna()\n",
      "[*********************100%%**********************]  2 of 2 completed\n",
      "C:\\Users\\asus\\AppData\\Local\\Temp\\ipykernel_7672\\2007383067.py:2: FutureWarning: The default fill_method='pad' in Series.pct_change is deprecated and will be removed in a future version. Either fill in any non-leading NA values prior to calling pct_change or specify 'fill_method=None' to not fill NA values.\n",
      "  daily_returns = data[stock].pct_change().dropna()\n",
      "[*********************100%%**********************]  2 of 2 completed\n",
      "C:\\Users\\asus\\AppData\\Local\\Temp\\ipykernel_7672\\2007383067.py:2: FutureWarning: The default fill_method='pad' in Series.pct_change is deprecated and will be removed in a future version. Either fill in any non-leading NA values prior to calling pct_change or specify 'fill_method=None' to not fill NA values.\n",
      "  daily_returns = data[stock].pct_change().dropna()\n",
      "[*********************100%%**********************]  2 of 2 completed\n",
      "C:\\Users\\asus\\AppData\\Local\\Temp\\ipykernel_7672\\2007383067.py:2: FutureWarning: The default fill_method='pad' in Series.pct_change is deprecated and will be removed in a future version. Either fill in any non-leading NA values prior to calling pct_change or specify 'fill_method=None' to not fill NA values.\n",
      "  daily_returns = data[stock].pct_change().dropna()\n",
      "[*********************100%%**********************]  2 of 2 completed"
     ]
    },
    {
     "name": "stdout",
     "output_type": "stream",
     "text": [
      "                   Beta    Return    Sharpe   Sortino       VaR\n",
      "JMFINANCIL.NS  0.948377  1.183944  1.210708  0.172282  1.876200\n",
      "ASIANPAINT.NS  0.705767  0.887467  1.461406  2.124984  1.156719\n",
      "DABUR.NS       0.547158  0.693642  1.310218  0.838728  1.000244\n",
      "ICICIBANK.NS   1.339767  1.662233  2.216078  1.761133  1.448043\n",
      "TATAMOTORS.NS  1.360753  1.687879  1.562645  2.044293  2.085722\n"
     ]
    },
    {
     "name": "stderr",
     "output_type": "stream",
     "text": [
      "\n",
      "C:\\Users\\asus\\AppData\\Local\\Temp\\ipykernel_7672\\2007383067.py:2: FutureWarning: The default fill_method='pad' in Series.pct_change is deprecated and will be removed in a future version. Either fill in any non-leading NA values prior to calling pct_change or specify 'fill_method=None' to not fill NA values.\n",
      "  daily_returns = data[stock].pct_change().dropna()\n"
     ]
    }
   ],
   "source": [
    "# Compute metrics for each stock\n",
    "results = pd.DataFrame()\n",
    "for stock in stock_tickers:\n",
    "    results = pd.concat([results, stock_CAPM(stock, market_ticker)])\n",
    "\n",
    "print(results)"
   ]
  },
  {
   "cell_type": "code",
   "execution_count": 33,
   "metadata": {},
   "outputs": [
    {
     "name": "stderr",
     "output_type": "stream",
     "text": [
      "[*********************100%%**********************]  5 of 5 completed\n"
     ]
    },
    {
     "data": {
      "image/png": "[encoded data removed]",
      "text/plain": [
       "<Figure size 1000x600 with 1 Axes>"
      ]
     },
     "metadata": {},
     "output_type": "display_data"
    },
    {
     "name": "stdout",
     "output_type": "stream",
     "text": [
      "Expected Portfolio Return: 16.1%\n",
      "Expected Portfolio Variance: 5.54%\n",
      "Expected Portfolio Volatility: 23.53%\n"
     ]
    }
   ],
   "source": [
    "import matplotlib.pyplot as plt\n",
    "# Import the data\n",
    "data = import_stock_data(stock_tickers)\n",
    "\n",
    "# Calculate log returns\n",
    "log_returns = np.log(data / data.shift(1))\n",
    "\n",
    "# Number of assets\n",
    "num_assets = len(stock_tickers)\n",
    "\n",
    "# Initialize lists to store portfolio returns and volatilities\n",
    "pfolio_returns = []\n",
    "pfolio_volatilities = []\n",
    "\n",
    "# Generate random portfolio weights\n",
    "for x in range(200):\n",
    "    weights = np.random.random(num_assets)\n",
    "    weights /= np.sum(weights)\n",
    "    \n",
    "    pfolio_returns.append(np.sum(weights * log_returns.mean()) * 252)\n",
    "    pfolio_volatilities.append(np.sqrt(np.dot(weights.T, np.dot(log_returns.cov() * 252, weights))))\n",
    "\n",
    "pfolio_returns = np.array(pfolio_returns)\n",
    "pfolio_volatilities = np.array(pfolio_volatilities)\n",
    "\n",
    "# Create a DataFrame with portfolio returns and volatilities\n",
    "portfolios = pd.DataFrame({'Return': pfolio_returns, 'Volatility': pfolio_volatilities})\n",
    "\n",
    "# Plot the efficient frontier\n",
    "portfolios.plot(x='Volatility', y='Return', kind='scatter', figsize=(10, 6))\n",
    "plt.xlabel('Expected Volatility')\n",
    "plt.ylabel('Expected Return')\n",
    "plt.title('Efficient Frontier')\n",
    "plt.show()\n",
    "\n",
    "# Print the expected return, variance, and volatility of the portfolio\n",
    "weights = np.ones(num_assets) / num_assets  # Equal weights for the given portfolio\n",
    "expected_return = np.sum(weights * log_returns.mean()) * 252\n",
    "expected_variance = np.dot(weights.T, np.dot(log_returns.cov() * 252, weights))\n",
    "expected_volatility = np.sqrt(expected_variance)\n",
    "\n",
    "print(f\"Expected Portfolio Return: {round(expected_return*100, 2)}%\")\n",
    "print(f\"Expected Portfolio Variance: {round(expected_variance*100, 2)}%\")\n",
    "print(f\"Expected Portfolio Volatility: {round(expected_volatility*100, 2)}%\")"
   ]
  },
  {
   "cell_type": "code",
   "execution_count": null,
   "metadata": {},
   "outputs": [],
   "source": []
  }
 ],
 "metadata": {
  "kernelspec": {
   "display_name": "Python 3",
   "language": "python",
   "name": "python3"
  },
  "language_info": {
   "codemirror_mode": {
    "name": "ipython",
    "version": 3
   },
   "file_extension": ".py",
   "mimetype": "text/x-python",
   "name": "python",
   "nbconvert_exporter": "python",
   "pygments_lexer": "ipython3",
   "version": "3.11.2"
  }
 },
 "nbformat": 4,
 "nbformat_minor": 2
}
